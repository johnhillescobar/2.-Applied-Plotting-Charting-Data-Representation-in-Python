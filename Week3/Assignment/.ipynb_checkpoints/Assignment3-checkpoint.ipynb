{
 "cells": [
  {
   "cell_type": "markdown",
   "metadata": {},
   "source": [
    "# Assignment 3 - Building a Custom Visualization\n",
    "\n",
    "---\n",
    "\n",
    "In this assignment you must choose one of the options presented below and submit a visual as well as your source code for peer grading. The details of how you solve the assignment are up to you, although your assignment must use matplotlib so that your peers can evaluate your work. The options differ in challenge level, but there are no grades associated with the challenge level you chose. However, your peers will be asked to ensure you at least met a minimum quality for a given technique in order to pass. Implement the technique fully (or exceed it!) and you should be able to earn full grades for the assignment.\n",
    "\n",
    "\n",
    "&nbsp;&nbsp;&nbsp;&nbsp;&nbsp;&nbsp;Ferreira, N., Fisher, D., & Konig, A. C. (2014, April). [Sample-oriented task-driven visualizations: allowing users to make better, more confident decisions.](https://www.microsoft.com/en-us/research/wp-content/uploads/2016/02/Ferreira_Fisher_Sample_Oriented_Tasks.pdf) \n",
    "&nbsp;&nbsp;&nbsp;&nbsp;&nbsp;&nbsp;In Proceedings of the SIGCHI Conference on Human Factors in Computing Systems (pp. 571-580). ACM. ([video](https://www.youtube.com/watch?v=BI7GAs-va-Q))\n",
    "\n",
    "\n",
    "In this [paper](https://www.microsoft.com/en-us/research/wp-content/uploads/2016/02/Ferreira_Fisher_Sample_Oriented_Tasks.pdf) the authors describe the challenges users face when trying to make judgements about probabilistic data generated through samples. As an example, they look at a bar chart of four years of data (replicated below in Figure 1). Each year has a y-axis value, which is derived from a sample of a larger dataset. For instance, the first value might be the number votes in a given district or riding for 1992, with the average being around 33,000. On top of this is plotted the 95% confidence interval for the mean (see the boxplot lectures for more information, and the yerr parameter of barcharts).\n",
    "\n",
    "<br>\n",
    "<img src=\"readonly/Assignment3Fig1.png\" alt=\"Figure 1\" style=\"width: 400px;\"/>\n",
    "<h4 style=\"text-align: center;\" markdown=\"1\">  &nbsp;&nbsp;&nbsp;&nbsp;&nbsp;&nbsp;&nbsp;&nbsp;Figure 1 from (Ferreira et al, 2014).</h4>\n",
    "\n",
    "<br>\n",
    "\n",
    "A challenge that users face is that, for a given y-axis value (e.g. 42,000), it is difficult to know which x-axis values are most likely to be representative, because the confidence levels overlap and their distributions are different (the lengths of the confidence interval bars are unequal). One of the solutions the authors propose for this problem (Figure 2c) is to allow users to indicate the y-axis value of interest (e.g. 42,000) and then draw a horizontal line and color bars based on this value. So bars might be colored red if they are definitely above this value (given the confidence interval), blue if they are definitely below this value, or white if they contain this value.\n",
    "\n",
    "\n",
    "<br>\n",
    "<img src=\"readonly/Assignment3Fig2c.png\" alt=\"Figure 1\" style=\"width: 400px;\"/>\n",
    "<h4 style=\"text-align: center;\" markdown=\"1\">  Figure 2c from (Ferreira et al. 2014). Note that the colorbar legend at the bottom as well as the arrows are not required in the assignment descriptions below.</h4>\n",
    "\n",
    "<br>\n",
    "<br>\n",
    "\n",
    "**Easiest option:** Implement the bar coloring as described above - a color scale with only three colors, (e.g. blue, white, and red). Assume the user provides the y axis value of interest as a parameter or variable.\n",
    "\n",
    "\n",
    "**Harder option:** Implement the bar coloring as described in the paper, where the color of the bar is actually based on the amount of data covered (e.g. a gradient ranging from dark blue for the distribution being certainly below this y-axis, to white if the value is certainly contained, to dark red if the value is certainly not contained as the distribution is above the axis).\n",
    "\n",
    "**Even Harder option:** Add interactivity to the above, which allows the user to click on the y axis to set the value of interest. The bar colors should change with respect to what value the user has selected.\n",
    "\n",
    "**Hardest option:** Allow the user to interactively set a range of y values they are interested in, and recolor based on this (e.g. a y-axis band, see the paper for more details).\n",
    "\n",
    "---\n",
    "\n",
    "*Note: The data given for this assignment is not the same as the data used in the article and as a result the visualizations may look a little different.*"
   ]
  },
  {
   "cell_type": "code",
   "execution_count": 1,
   "metadata": {},
   "outputs": [],
   "source": [
    "# Use the following data for this assignment:\n",
    "\n",
    "import pandas as pd\n",
    "import numpy as np\n",
    "from scipy import stats\n",
    "import matplotlib.pyplot as plt\n",
    "import matplotlib.colors as mcol\n",
    "import matplotlib.cm as cm\n",
    "\n",
    "\n",
    "\n",
    "np.random.seed(12345)\n",
    "\n",
    "# Create data frame with random normal distributions.  Then transpose the resulting dataframe\n",
    "df = pd.DataFrame([np.random.normal(32000,200000,3650), \n",
    "                   np.random.normal(43000,100000,3650), \n",
    "                   np.random.normal(43500,140000,3650), \n",
    "                   np.random.normal(48000,70000,3650)], \n",
    "                  index=[1992,1993,1994,1995]).T\n",
    "#df.describe()"
   ]
  },
  {
   "cell_type": "markdown",
   "metadata": {},
   "source": [
    "# Define functions"
   ]
  },
  {
   "cell_type": "code",
   "execution_count": 2,
   "metadata": {},
   "outputs": [],
   "source": [
    "def prepare_dataframe(df, std_err, confidence, n):\n",
    "    df_description = df.describe(percentiles = [0.025, 0.975])\n",
    "    df_description = df_description.T\n",
    "    df_description['std_err'] = std_err\n",
    "    df_description['yerr'] = stats.norm.ppf(confidence) * std_err\n",
    "    return df_description\n",
    "\n",
    "\n",
    "def massage_data(df):\n",
    "    data_for_graph = df\n",
    "    threshold = np.mean(data_for_graph['mean'])\n",
    "    lower_bound = data_for_graph['mean'] - data_for_graph['yerr']\n",
    "    upper_bound = data_for_graph['mean'] + data_for_graph['yerr']\n",
    "    data_for_graph['percentage'] = ((upper_bound - threshold) / (upper_bound - lower_bound))\n",
    "    f = lambda x: 0 if x['percentage'] < 0 else 1 if x['percentage'] > 1 else x['percentage']\n",
    "    data_for_graph['percentage1'] = data_for_graph.apply(f, axis=1)\n",
    "    return data_for_graph\n",
    "\n",
    "def mygraph():\n",
    "    threshold = np.mean(data_for_graph['mean'])\n",
    "    percentages = list(data_for_graph['percentage1'])\n",
    "    \n",
    "    # Setup the colormap\n",
    "    cmap = mcol.LinearSegmentedColormap.from_list(\"Cmap\",[\"blue\", \"white\", \"red\"])\n",
    "    cpick = cm.ScalarMappable(cmap=cmap)\n",
    "    cpick.set_array([])\n",
    "    \n",
    "    # Create figure and subplot\n",
    "    fig = plt.figure(figsize = (13, 10))\n",
    "    ax = fig.add_subplot(111)\n",
    "    \n",
    "    # Define range values for X axis\n",
    "    xvals = range(len(data_for_graph.index))\n",
    "    \n",
    "    # Create a graph bar and add threshold to it\n",
    "    bar_graph = plt.bar(xvals, data_for_graph['mean'], width = 0.8, alpha = 0.9, color = cpick.to_rgba(percentages)\n",
    "                    , yerr =  data_for_graph['yerr'], error_kw = {'capsize': 5, 'elinewidth': 2, 'alpha':0.7})\n",
    "    ax.axhline(y=threshold, color=\"red\")\n",
    "    \n",
    "    # Create categories in X axis\n",
    "    plt.xticks( xvals, list(data_for_graph.index))\n",
    "    \n",
    "    #Create titles, labels and colorbar\n",
    "    plt.xlabel('Years',fontsize= 15)\n",
    "    plt.ylabel('Means', fontsize= 15)\n",
    "    plt.title('Random Fake Data \\n 1992 - 1995', fontsize=25)\n",
    "    plt.rc('xtick', labelsize= 15)\n",
    "    plt.rc('ytick', labelsize= 15)\n",
    "    plt.colorbar(cpick, orientation='horizontal', boundaries=np.linspace(0,1,12), shrink = 0.85)\n",
    "    \n",
    "    # Set the borders of the graph not visible\n",
    "    for i in list(['top', 'right', 'bottom', 'left']):\n",
    "        plt.gca().spines[i].set_visible(False)\n",
    "    \n",
    "    plt.show()\n",
    "    \n",
    "    return"
   ]
  },
  {
   "cell_type": "markdown",
   "metadata": {},
   "source": [
    "# Define variables"
   ]
  },
  {
   "cell_type": "code",
   "execution_count": 3,
   "metadata": {},
   "outputs": [],
   "source": [
    "#def data_for_graph(df)\n",
    "data = df\n",
    "std_err = stats.sem(df)\n",
    "confidence = 1 - 0.05 / 2\n",
    "n = len(df)\n"
   ]
  },
  {
   "cell_type": "markdown",
   "metadata": {},
   "source": [
    "# Set dataframes"
   ]
  },
  {
   "cell_type": "code",
   "execution_count": 4,
   "metadata": {},
   "outputs": [],
   "source": [
    "data_for_graph = prepare_dataframe(data, std_err, confidence, n)\n",
    "\n",
    "data_for_graph = data_for_graph.loc[:, :]\n",
    "\n",
    "data_for_graph = massage_data(data_for_graph)\n",
    "\n",
    "#data_for_graph"
   ]
  },
  {
   "cell_type": "markdown",
   "metadata": {},
   "source": [
    "# Create graph"
   ]
  },
  {
   "cell_type": "code",
   "execution_count": 5,
   "metadata": {},
   "outputs": [
    {
     "data": {
      "image/png": "[encoded data removed]",
      "text/plain": [
       "<matplotlib.figure.Figure at 0x7faae5f865c0>"
      ]
     },
     "metadata": {},
     "output_type": "display_data"
    }
   ],
   "source": [
    "mygraph()"
   ]
  }
 ],
 "metadata": {
  "kernelspec": {
   "display_name": "Python [default]",
   "language": "python",
   "name": "python3"
  },
  "language_info": {
   "codemirror_mode": {
    "name": "ipython",
    "version": 3
   },
   "file_extension": ".py",
   "mimetype": "text/x-python",
   "name": "python",
   "nbconvert_exporter": "python",
   "pygments_lexer": "ipython3",
   "version": "3.5.3"
  }
 },
 "nbformat": 4,
 "nbformat_minor": 2
}
