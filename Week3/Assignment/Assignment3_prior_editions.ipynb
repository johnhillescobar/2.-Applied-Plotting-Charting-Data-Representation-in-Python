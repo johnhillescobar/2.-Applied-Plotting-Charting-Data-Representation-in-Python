{
 "cells": [
  {
   "cell_type": "markdown",
   "metadata": {},
   "source": [
    "# Assignment 3 - Building a Custom Visualization\n",
    "\n",
    "---\n",
    "\n",
    "In this assignment you must choose one of the options presented below and submit a visual as well as your source code for peer grading. The details of how you solve the assignment are up to you, although your assignment must use matplotlib so that your peers can evaluate your work. The options differ in challenge level, but there are no grades associated with the challenge level you chose. However, your peers will be asked to ensure you at least met a minimum quality for a given technique in order to pass. Implement the technique fully (or exceed it!) and you should be able to earn full grades for the assignment.\n",
    "\n",
    "\n",
    "&nbsp;&nbsp;&nbsp;&nbsp;&nbsp;&nbsp;Ferreira, N., Fisher, D., & Konig, A. C. (2014, April). [Sample-oriented task-driven visualizations: allowing users to make better, more confident decisions.](https://www.microsoft.com/en-us/research/wp-content/uploads/2016/02/Ferreira_Fisher_Sample_Oriented_Tasks.pdf) \n",
    "&nbsp;&nbsp;&nbsp;&nbsp;&nbsp;&nbsp;In Proceedings of the SIGCHI Conference on Human Factors in Computing Systems (pp. 571-580). ACM. ([video](https://www.youtube.com/watch?v=BI7GAs-va-Q))\n",
    "\n",
    "\n",
    "In this [paper](https://www.microsoft.com/en-us/research/wp-content/uploads/2016/02/Ferreira_Fisher_Sample_Oriented_Tasks.pdf) the authors describe the challenges users face when trying to make judgements about probabilistic data generated through samples. As an example, they look at a bar chart of four years of data (replicated below in Figure 1). Each year has a y-axis value, which is derived from a sample of a larger dataset. For instance, the first value might be the number votes in a given district or riding for 1992, with the average being around 33,000. On top of this is plotted the 95% confidence interval for the mean (see the boxplot lectures for more information, and the yerr parameter of barcharts).\n",
    "\n",
    "<br>\n",
    "<img src=\"readonly/Assignment3Fig1.png\" alt=\"Figure 1\" style=\"width: 400px;\"/>\n",
    "<h4 style=\"text-align: center;\" markdown=\"1\">  &nbsp;&nbsp;&nbsp;&nbsp;&nbsp;&nbsp;&nbsp;&nbsp;Figure 1 from (Ferreira et al, 2014).</h4>\n",
    "\n",
    "<br>\n",
    "\n",
    "A challenge that users face is that, for a given y-axis value (e.g. 42,000), it is difficult to know which x-axis values are most likely to be representative, because the confidence levels overlap and their distributions are different (the lengths of the confidence interval bars are unequal). One of the solutions the authors propose for this problem (Figure 2c) is to allow users to indicate the y-axis value of interest (e.g. 42,000) and then draw a horizontal line and color bars based on this value. So bars might be colored red if they are definitely above this value (given the confidence interval), blue if they are definitely below this value, or white if they contain this value.\n",
    "\n",
    "\n",
    "<br>\n",
    "<img src=\"readonly/Assignment3Fig2c.png\" alt=\"Figure 1\" style=\"width: 400px;\"/>\n",
    "<h4 style=\"text-align: center;\" markdown=\"1\">  Figure 2c from (Ferreira et al. 2014). Note that the colorbar legend at the bottom as well as the arrows are not required in the assignment descriptions below.</h4>\n",
    "\n",
    "<br>\n",
    "<br>\n",
    "\n",
    "**Easiest option:** Implement the bar coloring as described above - a color scale with only three colors, (e.g. blue, white, and red). Assume the user provides the y axis value of interest as a parameter or variable.\n",
    "\n",
    "\n",
    "**Harder option:** Implement the bar coloring as described in the paper, where the color of the bar is actually based on the amount of data covered (e.g. a gradient ranging from dark blue for the distribution being certainly below this y-axis, to white if the value is certainly contained, to dark red if the value is certainly not contained as the distribution is above the axis).\n",
    "\n",
    "**Even Harder option:** Add interactivity to the above, which allows the user to click on the y axis to set the value of interest. The bar colors should change with respect to what value the user has selected.\n",
    "\n",
    "**Hardest option:** Allow the user to interactively set a range of y values they are interested in, and recolor based on this (e.g. a y-axis band, see the paper for more details).\n",
    "\n",
    "---\n",
    "\n",
    "*Note: The data given for this assignment is not the same as the data used in the article and as a result the visualizations may look a little different.*"
   ]
  },
  {
   "cell_type": "code",
   "execution_count": 1,
   "metadata": {
    "collapsed": false
   },
   "outputs": [
    {
     "data": {
      "text/html": [
       "<div>\n",
       "<table border=\"1\" class=\"dataframe\">\n",
       "  <thead>\n",
       "    <tr style=\"text-align: right;\">\n",
       "      <th></th>\n",
       "      <th>1992</th>\n",
       "      <th>1993</th>\n",
       "      <th>1994</th>\n",
       "      <th>1995</th>\n",
       "    </tr>\n",
       "  </thead>\n",
       "  <tbody>\n",
       "    <tr>\n",
       "      <th>count</th>\n",
       "      <td>3650.000000</td>\n",
       "      <td>3650.000000</td>\n",
       "      <td>3650.000000</td>\n",
       "      <td>3650.000000</td>\n",
       "    </tr>\n",
       "    <tr>\n",
       "      <th>mean</th>\n",
       "      <td>33312.107476</td>\n",
       "      <td>41861.859541</td>\n",
       "      <td>39493.304941</td>\n",
       "      <td>47743.550969</td>\n",
       "    </tr>\n",
       "    <tr>\n",
       "      <th>std</th>\n",
       "      <td>200630.901553</td>\n",
       "      <td>98398.356203</td>\n",
       "      <td>140369.925240</td>\n",
       "      <td>69781.185469</td>\n",
       "    </tr>\n",
       "    <tr>\n",
       "      <th>min</th>\n",
       "      <td>-717071.175466</td>\n",
       "      <td>-321586.023683</td>\n",
       "      <td>-450827.613097</td>\n",
       "      <td>-189865.963265</td>\n",
       "    </tr>\n",
       "    <tr>\n",
       "      <th>25%</th>\n",
       "      <td>-102740.398364</td>\n",
       "      <td>-26628.302213</td>\n",
       "      <td>-57436.397393</td>\n",
       "      <td>1774.555612</td>\n",
       "    </tr>\n",
       "    <tr>\n",
       "      <th>50%</th>\n",
       "      <td>29674.931050</td>\n",
       "      <td>43001.976658</td>\n",
       "      <td>41396.781369</td>\n",
       "      <td>49404.322978</td>\n",
       "    </tr>\n",
       "    <tr>\n",
       "      <th>75%</th>\n",
       "      <td>167441.838695</td>\n",
       "      <td>108296.577923</td>\n",
       "      <td>137261.713785</td>\n",
       "      <td>94164.333867</td>\n",
       "    </tr>\n",
       "    <tr>\n",
       "      <th>max</th>\n",
       "      <td>817505.608159</td>\n",
       "      <td>395586.505068</td>\n",
       "      <td>490091.665037</td>\n",
       "      <td>320826.888044</td>\n",
       "    </tr>\n",
       "  </tbody>\n",
       "</table>\n",
       "</div>"
      ],
      "text/plain": [
       "                1992           1993           1994           1995\n",
       "count    3650.000000    3650.000000    3650.000000    3650.000000\n",
       "mean    33312.107476   41861.859541   39493.304941   47743.550969\n",
       "std    200630.901553   98398.356203  140369.925240   69781.185469\n",
       "min   -717071.175466 -321586.023683 -450827.613097 -189865.963265\n",
       "25%   -102740.398364  -26628.302213  -57436.397393    1774.555612\n",
       "50%     29674.931050   43001.976658   41396.781369   49404.322978\n",
       "75%    167441.838695  108296.577923  137261.713785   94164.333867\n",
       "max    817505.608159  395586.505068  490091.665037  320826.888044"
      ]
     },
     "execution_count": 1,
     "metadata": {},
     "output_type": "execute_result"
    }
   ],
   "source": [
    "# Use the following data for this assignment:\n",
    "\n",
    "import pandas as pd\n",
    "import numpy as np\n",
    "from scipy import stats\n",
    "import matplotlib.pyplot as plt\n",
    "import matplotlib.colors as mcol\n",
    "import matplotlib.cm as cm\n",
    "\n",
    "\n",
    "\n",
    "np.random.seed(12345)\n",
    "\n",
    "# Create data frame with random normal distributions.  Then transpose the resulting dataframe\n",
    "df = pd.DataFrame([np.random.normal(32000,200000,3650), \n",
    "                   np.random.normal(43000,100000,3650), \n",
    "                   np.random.normal(43500,140000,3650), \n",
    "                   np.random.normal(48000,70000,3650)], \n",
    "                  index=[1992,1993,1994,1995]).T\n",
    "df.describe()"
   ]
  },
  {
   "cell_type": "markdown",
   "metadata": {},
   "source": [
    "# Define functions"
   ]
  },
  {
   "cell_type": "code",
   "execution_count": 22,
   "metadata": {
    "collapsed": false
   },
   "outputs": [],
   "source": [
    "def prepare_dataframe(df, std_err, confidence, n):\n",
    "    df_description = df.describe(percentiles = [0.025, 0.975])\n",
    "    df_description = df_description.T\n",
    "    df_description['std_err'] = std_err\n",
    "    df_description['yerr'] = stats.norm.ppf(confidence) * std_err\n",
    "    return df_description\n",
    "\n",
    "\n",
    "def massage_data(df):\n",
    "    data_for_graph = df\n",
    "    threshold = np.mean(data_for_graph['mean'])\n",
    "    lower_bound = data_for_graph['mean'] - data_for_graph['yerr']\n",
    "    upper_bound = data_for_graph['mean'] + data_for_graph['yerr']\n",
    "    data_for_graph['percentage'] = ((upper_bound - threshold) / (upper_bound - lower_bound))\n",
    "    f = lambda x: 0 if x['percentage'] < 0 else 1 if x['percentage'] > 1 else x['percentage']\n",
    "    data_for_graph['percentage1'] = data_for_graph.apply(f, axis=1)\n",
    "    return data_for_graph\n",
    "\n",
    "def mygraph():\n",
    "    threshold = np.mean(data_for_graph['mean'])\n",
    "    percentages = list(data_for_graph['percentage1'])\n",
    "    \n",
    "    # Setup the colormap\n",
    "    cmap = mcol.LinearSegmentedColormap.from_list(\"Cmap\",[\"blue\", \"white\", \"red\"])\n",
    "    cpick = cm.ScalarMappable(cmap=cmap)\n",
    "    cpick.set_array([])\n",
    "    \n",
    "    # Create figure and subplot\n",
    "    fig = plt.figure(figsize = (13, 10))\n",
    "    ax = fig.add_subplot(111)\n",
    "    \n",
    "    # Define range values for X axis\n",
    "    xvals = range(len(data_for_graph.index))\n",
    "    \n",
    "    # Create a graph bar and add threshold to it\n",
    "    bar_graph = plt.bar(xvals, data_for_graph['mean'], width = 0.8, alpha = 0.9, color = cpick.to_rgba(percentages)\n",
    "                    , yerr =  data_for_graph['yerr'], error_kw = {'capsize': 5, 'elinewidth': 2, 'alpha':0.7})\n",
    "    ax.axhline(y=threshold, color=\"red\")\n",
    "    \n",
    "    # Create categories in X axis\n",
    "    plt.xticks( xvals, list(data_for_graph.index))\n",
    "    \n",
    "    #Create titles, labels and colorbar\n",
    "    plt.xlabel('Years',fontsize= 15)\n",
    "    plt.ylabel('Means', fontsize= 15)\n",
    "    plt.title('Random Fake Data \\n 1992 - 1995', fontsize=25)\n",
    "    plt.rc('xtick', labelsize= 15)\n",
    "    plt.rc('ytick', labelsize= 15)\n",
    "    plt.colorbar(cpick, orientation='horizontal', boundaries=np.linspace(0,1,12), shrink = 0.85)\n",
    "    \n",
    "    # Set the borders of the graph not visible\n",
    "    for i in list(['top', 'right', 'bottom', 'left']):\n",
    "        plt.gca().spines[i].set_visible(False)\n",
    "    \n",
    "    plt.show()\n",
    "    \n",
    "    return"
   ]
  },
  {
   "cell_type": "markdown",
   "metadata": {},
   "source": [
    "# Define variables"
   ]
  },
  {
   "cell_type": "code",
   "execution_count": 23,
   "metadata": {
    "collapsed": false
   },
   "outputs": [],
   "source": [
    "#def data_for_graph(df)\n",
    "data = df\n",
    "std_err = stats.sem(df)\n",
    "confidence = 1 - 0.05 / 2\n",
    "n = len(df)\n"
   ]
  },
  {
   "cell_type": "markdown",
   "metadata": {},
   "source": [
    "# Set dataframes"
   ]
  },
  {
   "cell_type": "code",
   "execution_count": 24,
   "metadata": {
    "collapsed": false
   },
   "outputs": [
    {
     "data": {
      "text/html": [
       "<div>\n",
       "<table border=\"1\" class=\"dataframe\">\n",
       "  <thead>\n",
       "    <tr style=\"text-align: right;\">\n",
       "      <th></th>\n",
       "      <th>count</th>\n",
       "      <th>mean</th>\n",
       "      <th>std</th>\n",
       "      <th>min</th>\n",
       "      <th>2.5%</th>\n",
       "      <th>50%</th>\n",
       "      <th>97.5%</th>\n",
       "      <th>max</th>\n",
       "      <th>std_err</th>\n",
       "      <th>yerr</th>\n",
       "      <th>percentage</th>\n",
       "      <th>percentage1</th>\n",
       "    </tr>\n",
       "  </thead>\n",
       "  <tbody>\n",
       "    <tr>\n",
       "      <th>1992</th>\n",
       "      <td>3650.0</td>\n",
       "      <td>33312.107476</td>\n",
       "      <td>200630.901553</td>\n",
       "      <td>-717071.175466</td>\n",
       "      <td>-355681.148548</td>\n",
       "      <td>29674.931050</td>\n",
       "      <td>426438.692036</td>\n",
       "      <td>817505.608159</td>\n",
       "      <td>3320.866311</td>\n",
       "      <td>6508.778367</td>\n",
       "      <td>-0.060059</td>\n",
       "      <td>0.000000</td>\n",
       "    </tr>\n",
       "    <tr>\n",
       "      <th>1993</th>\n",
       "      <td>3650.0</td>\n",
       "      <td>41861.859541</td>\n",
       "      <td>98398.356203</td>\n",
       "      <td>-321586.023683</td>\n",
       "      <td>-153328.104574</td>\n",
       "      <td>43001.976658</td>\n",
       "      <td>235109.658331</td>\n",
       "      <td>395586.505068</td>\n",
       "      <td>1628.701180</td>\n",
       "      <td>3192.195655</td>\n",
       "      <td>0.697224</td>\n",
       "      <td>0.697224</td>\n",
       "    </tr>\n",
       "    <tr>\n",
       "      <th>1994</th>\n",
       "      <td>3650.0</td>\n",
       "      <td>39493.304941</td>\n",
       "      <td>140369.925240</td>\n",
       "      <td>-450827.613097</td>\n",
       "      <td>-241403.480324</td>\n",
       "      <td>41396.781369</td>\n",
       "      <td>305636.167342</td>\n",
       "      <td>490091.665037</td>\n",
       "      <td>2323.419534</td>\n",
       "      <td>4553.818608</td>\n",
       "      <td>0.378190</td>\n",
       "      <td>0.378190</td>\n",
       "    </tr>\n",
       "    <tr>\n",
       "      <th>1995</th>\n",
       "      <td>3650.0</td>\n",
       "      <td>47743.550969</td>\n",
       "      <td>69781.185469</td>\n",
       "      <td>-189865.963265</td>\n",
       "      <td>-89912.101523</td>\n",
       "      <td>49404.322978</td>\n",
       "      <td>183234.950476</td>\n",
       "      <td>320826.888044</td>\n",
       "      <td>1155.026400</td>\n",
       "      <td>2263.810146</td>\n",
       "      <td>2.077174</td>\n",
       "      <td>1.000000</td>\n",
       "    </tr>\n",
       "  </tbody>\n",
       "</table>\n",
       "</div>"
      ],
      "text/plain": [
       "       count          mean            std            min           2.5%  \\\n",
       "1992  3650.0  33312.107476  200630.901553 -717071.175466 -355681.148548   \n",
       "1993  3650.0  41861.859541   98398.356203 -321586.023683 -153328.104574   \n",
       "1994  3650.0  39493.304941  140369.925240 -450827.613097 -241403.480324   \n",
       "1995  3650.0  47743.550969   69781.185469 -189865.963265  -89912.101523   \n",
       "\n",
       "               50%          97.5%            max      std_err         yerr  \\\n",
       "1992  29674.931050  426438.692036  817505.608159  3320.866311  6508.778367   \n",
       "1993  43001.976658  235109.658331  395586.505068  1628.701180  3192.195655   \n",
       "1994  41396.781369  305636.167342  490091.665037  2323.419534  4553.818608   \n",
       "1995  49404.322978  183234.950476  320826.888044  1155.026400  2263.810146   \n",
       "\n",
       "      percentage  percentage1  \n",
       "1992   -0.060059     0.000000  \n",
       "1993    0.697224     0.697224  \n",
       "1994    0.378190     0.378190  \n",
       "1995    2.077174     1.000000  "
      ]
     },
     "execution_count": 24,
     "metadata": {},
     "output_type": "execute_result"
    }
   ],
   "source": [
    "data_for_graph = prepare_dataframe(data, std_err, confidence, n)\n",
    "\n",
    "data_for_graph = data_for_graph.loc[:, :]\n",
    "\n",
    "data_for_graph = massage_data(data_for_graph)\n",
    "\n",
    "data_for_graph"
   ]
  },
  {
   "cell_type": "markdown",
   "metadata": {},
   "source": [
    "# Create graph"
   ]
  },
  {
   "cell_type": "code",
   "execution_count": 25,
   "metadata": {
    "collapsed": false
   },
   "outputs": [
    {
     "data": {
      "image/png": "[encoded data removed]",
      "text/plain": [
       "<matplotlib.figure.Figure at 0x7f46bace9390>"
      ]
     },
     "metadata": {},
     "output_type": "display_data"
    }
   ],
   "source": [
    "mygraph()"
   ]
  },
  {
   "cell_type": "code",
   "execution_count": null,
   "metadata": {
    "collapsed": true
   },
   "outputs": [],
   "source": []
  },
  {
   "cell_type": "code",
   "execution_count": null,
   "metadata": {
    "collapsed": true
   },
   "outputs": [],
   "source": []
  },
  {
   "cell_type": "code",
   "execution_count": null,
   "metadata": {
    "collapsed": true
   },
   "outputs": [],
   "source": []
  },
  {
   "cell_type": "code",
   "execution_count": 18,
   "metadata": {
    "collapsed": false
   },
   "outputs": [
    {
     "data": {
      "text/plain": [
       "[0.0, 0.6972237834443118, 0.37819005477543205, 1.0]"
      ]
     },
     "execution_count": 18,
     "metadata": {},
     "output_type": "execute_result"
    }
   ],
   "source": [
    "percentages = list(data_for_graph['percentage1'])\n",
    "percentages"
   ]
  },
  {
   "cell_type": "code",
   "execution_count": 5,
   "metadata": {
    "collapsed": false
   },
   "outputs": [
    {
     "data": {
      "text/plain": [
       "range(0, 4)"
      ]
     },
     "execution_count": 5,
     "metadata": {},
     "output_type": "execute_result"
    }
   ],
   "source": [
    "xvals = range(len(data_for_graph.index))\n",
    "xvals"
   ]
  },
  {
   "cell_type": "code",
   "execution_count": 20,
   "metadata": {
    "collapsed": false
   },
   "outputs": [
    {
     "data": {
      "image/png": "[encoded data removed]",
      "text/plain": [
       "<matplotlib.figure.Figure at 0x7f46bacc75f8>"
      ]
     },
     "metadata": {},
     "output_type": "display_data"
    }
   ],
   "source": [
    "threshold = np.mean(data_for_graph['mean'])\n",
    "#percentages = []\n",
    "#percentages = [0, 0.69722015941100912, 0.37819229306176017, 1] # <== Incorporate function you created with lambda\n",
    "percentages = list(data_for_graph['percentage1'])\n",
    "\n",
    "\n",
    "# Setup the colormap\n",
    "cmap = mcol.LinearSegmentedColormap.from_list(\"Cmap\",[\"blue\", \"white\", \"red\"])\n",
    "cpick = cm.ScalarMappable(cmap=cmap)\n",
    "cpick.set_array([])\n",
    "\n",
    "# Create figure and subplot\n",
    "fig = plt.figure(figsize = (13, 10))\n",
    "ax = fig.add_subplot(111)\n",
    "\n",
    "# Define range values for X axis\n",
    "xvals = range(len(data_for_graph.index))\n",
    "\n",
    "# Create a graph bar and add threshold to it\n",
    "bar_graph = plt.bar(xvals, data_for_graph['mean'], width = 0.8, alpha = 0.9, color = cpick.to_rgba(percentages)\n",
    "                    , yerr =  data_for_graph['yerr'], error_kw = {'capsize': 5, 'elinewidth': 2, 'alpha':0.7})\n",
    "ax.axhline(y=threshold, color=\"red\")\n",
    "\n",
    "# Create categories in X axis\n",
    "plt.xticks( xvals, list(data_for_graph.index))\n",
    "\n",
    "\"\"\"\n",
    "# # <== Incorporate function you created with lambda\n",
    "for bar, yerr in zip(data_for_graph['mean'], data_for_graph['yerr']):\n",
    "    low = bar - yerr\n",
    "    high = bar + yerr\n",
    "    percentage = (high-threshold)/(high-low)\n",
    "    if percentage > 1: percentage = 1\n",
    "    if percentage < 0: percentage = 0\n",
    "    percentages.append(percentage)\n",
    "\"\"\"\n",
    "\n",
    "#Create titles, labels and colorbar\n",
    "plt.xlabel('Years',fontsize= 15)\n",
    "plt.ylabel('Means', fontsize= 15)\n",
    "plt.title('Random Fake Data \\n 1992 - 1995', fontsize=25)\n",
    "plt.rc('xtick', labelsize= 15)\n",
    "plt.rc('ytick', labelsize= 15)\n",
    "plt.colorbar(cpick, orientation='horizontal', boundaries=np.linspace(0,1,12), shrink = 0.85)\n",
    "\n",
    "\n",
    "# Set the borders of the graph not visible\n",
    "for i in list(['top', 'right', 'bottom', 'left']):\n",
    "    plt.gca().spines[i].set_visible(False)\n",
    "\n",
    "#plt.gca().spines['top'].set_visible(False)\n",
    "#plt.gca().spines['right'].set_visible(False)\n",
    "#plt.gca().spines['bottom'].set_visible(False)\n",
    "#plt.gca().spines['left'].set_visible(False)\n",
    "\n",
    "plt.show()"
   ]
  },
  {
   "cell_type": "code",
   "execution_count": 7,
   "metadata": {
    "collapsed": false
   },
   "outputs": [
    {
     "data": {
      "text/plain": [
       "[2.0771740513731305,\n",
       " 2.0771740513731305,\n",
       " 2.0771740513731305,\n",
       " 2.0771740513731305]"
      ]
     },
     "execution_count": 7,
     "metadata": {},
     "output_type": "execute_result"
    }
   ],
   "source": [
    "data_for_graph.index\n",
    "threshold = np.mean(data_for_graph['mean'])\n",
    "threshold\n",
    "\n",
    "percentages = []\n",
    "\n",
    "for bar, yerr in zip(data_for_graph['mean'], data_for_graph['yerr']):\n",
    "    #low = bar - yerr\n",
    "    #high = bar + yerr\n",
    "    percentage = (high-threshold)/(high-low)\n",
    "    #if percentage > 1: percentage = 1\n",
    "    # elif percentage < 0: percentage = 0\n",
    "    #else: percentage\n",
    "    percentages.append(percentage)\n",
    "percentages\n",
    "\n"
   ]
  },
  {
   "cell_type": "code",
   "execution_count": 8,
   "metadata": {
    "collapsed": false
   },
   "outputs": [
    {
     "data": {
      "text/html": [
       "<div>\n",
       "<table border=\"1\" class=\"dataframe\">\n",
       "  <thead>\n",
       "    <tr style=\"text-align: right;\">\n",
       "      <th></th>\n",
       "      <th>count</th>\n",
       "      <th>mean</th>\n",
       "      <th>std</th>\n",
       "      <th>min</th>\n",
       "      <th>2.5%</th>\n",
       "      <th>50%</th>\n",
       "      <th>97.5%</th>\n",
       "      <th>max</th>\n",
       "      <th>std_err</th>\n",
       "      <th>yerr</th>\n",
       "      <th>percentage</th>\n",
       "      <th>percentage1</th>\n",
       "    </tr>\n",
       "  </thead>\n",
       "  <tbody>\n",
       "    <tr>\n",
       "      <th>1992</th>\n",
       "      <td>3650.0</td>\n",
       "      <td>33312.107476</td>\n",
       "      <td>200630.901553</td>\n",
       "      <td>-717071.175466</td>\n",
       "      <td>-355681.148548</td>\n",
       "      <td>29674.931050</td>\n",
       "      <td>426438.692036</td>\n",
       "      <td>817505.608159</td>\n",
       "      <td>3320.866311</td>\n",
       "      <td>6508.778367</td>\n",
       "      <td>-0.060059</td>\n",
       "      <td>0.000000</td>\n",
       "    </tr>\n",
       "    <tr>\n",
       "      <th>1993</th>\n",
       "      <td>3650.0</td>\n",
       "      <td>41861.859541</td>\n",
       "      <td>98398.356203</td>\n",
       "      <td>-321586.023683</td>\n",
       "      <td>-153328.104574</td>\n",
       "      <td>43001.976658</td>\n",
       "      <td>235109.658331</td>\n",
       "      <td>395586.505068</td>\n",
       "      <td>1628.701180</td>\n",
       "      <td>3192.195655</td>\n",
       "      <td>0.697224</td>\n",
       "      <td>0.697224</td>\n",
       "    </tr>\n",
       "    <tr>\n",
       "      <th>1994</th>\n",
       "      <td>3650.0</td>\n",
       "      <td>39493.304941</td>\n",
       "      <td>140369.925240</td>\n",
       "      <td>-450827.613097</td>\n",
       "      <td>-241403.480324</td>\n",
       "      <td>41396.781369</td>\n",
       "      <td>305636.167342</td>\n",
       "      <td>490091.665037</td>\n",
       "      <td>2323.419534</td>\n",
       "      <td>4553.818608</td>\n",
       "      <td>0.378190</td>\n",
       "      <td>0.378190</td>\n",
       "    </tr>\n",
       "    <tr>\n",
       "      <th>1995</th>\n",
       "      <td>3650.0</td>\n",
       "      <td>47743.550969</td>\n",
       "      <td>69781.185469</td>\n",
       "      <td>-189865.963265</td>\n",
       "      <td>-89912.101523</td>\n",
       "      <td>49404.322978</td>\n",
       "      <td>183234.950476</td>\n",
       "      <td>320826.888044</td>\n",
       "      <td>1155.026400</td>\n",
       "      <td>2263.810146</td>\n",
       "      <td>2.077174</td>\n",
       "      <td>1.000000</td>\n",
       "    </tr>\n",
       "  </tbody>\n",
       "</table>\n",
       "</div>"
      ],
      "text/plain": [
       "       count          mean            std            min           2.5%  \\\n",
       "1992  3650.0  33312.107476  200630.901553 -717071.175466 -355681.148548   \n",
       "1993  3650.0  41861.859541   98398.356203 -321586.023683 -153328.104574   \n",
       "1994  3650.0  39493.304941  140369.925240 -450827.613097 -241403.480324   \n",
       "1995  3650.0  47743.550969   69781.185469 -189865.963265  -89912.101523   \n",
       "\n",
       "               50%          97.5%            max      std_err         yerr  \\\n",
       "1992  29674.931050  426438.692036  817505.608159  3320.866311  6508.778367   \n",
       "1993  43001.976658  235109.658331  395586.505068  1628.701180  3192.195655   \n",
       "1994  41396.781369  305636.167342  490091.665037  2323.419534  4553.818608   \n",
       "1995  49404.322978  183234.950476  320826.888044  1155.026400  2263.810146   \n",
       "\n",
       "      percentage  percentage1  \n",
       "1992   -0.060059     0.000000  \n",
       "1993    0.697224     0.697224  \n",
       "1994    0.378190     0.378190  \n",
       "1995    2.077174     1.000000  "
      ]
     },
     "execution_count": 8,
     "metadata": {},
     "output_type": "execute_result"
    }
   ],
   "source": [
    "\n",
    "\n",
    "\n",
    "data_for_graph\n",
    "lower_bound = data_for_graph['mean'] - data_for_graph['yerr']\n",
    "upper_bound = data_for_graph['mean'] + data_for_graph['yerr']\n",
    "data_for_graph['percentage'] = ((upper_bound - threshold) / (upper_bound - lower_bound))\n",
    "f = lambda x: 0 if x['percentage'] < 0 else 1 if x['percentage'] > 1 else x['percentage']\n",
    "data_for_graph['percentage1'] = data_for_graph.apply(f, axis=1)\n",
    "data_for_graph"
   ]
  },
  {
   "cell_type": "code",
   "execution_count": 9,
   "metadata": {
    "collapsed": false
   },
   "outputs": [],
   "source": [
    "n = len(data)\n",
    "m = np.mean(data)\n",
    "std_err = stats.sem(data)\n",
    "h = std_err * stats.t.ppf((1 + confidence) / 2, n - 1)"
   ]
  },
  {
   "cell_type": "code",
   "execution_count": 10,
   "metadata": {
    "collapsed": false
   },
   "outputs": [
    {
     "name": "stdout",
     "output_type": "stream",
     "text": [
      "[(33312.107475544377, 6508.7783674427083), (41861.859541073398, 3192.1956552669026), (39493.304941398885, 4553.8186080650703), (47743.550969267082, 2263.8101455033247)]\n"
     ]
    }
   ],
   "source": [
    "zip_generator = zip(data_for_graph['mean'], data_for_graph['yerr'])\n",
    "print(list(zip_generator))"
   ]
  },
  {
   "cell_type": "code",
   "execution_count": 11,
   "metadata": {
    "collapsed": false
   },
   "outputs": [
    {
     "data": {
      "text/html": [
       "<div>\n",
       "<table border=\"1\" class=\"dataframe\">\n",
       "  <thead>\n",
       "    <tr style=\"text-align: right;\">\n",
       "      <th></th>\n",
       "      <th>0</th>\n",
       "      <th>1</th>\n",
       "      <th>2</th>\n",
       "      <th>3</th>\n",
       "      <th>4</th>\n",
       "      <th>5</th>\n",
       "      <th>6</th>\n",
       "      <th>7</th>\n",
       "      <th>8</th>\n",
       "      <th>9</th>\n",
       "      <th>...</th>\n",
       "      <th>3640</th>\n",
       "      <th>3641</th>\n",
       "      <th>3642</th>\n",
       "      <th>3643</th>\n",
       "      <th>3644</th>\n",
       "      <th>3645</th>\n",
       "      <th>3646</th>\n",
       "      <th>3647</th>\n",
       "      <th>3648</th>\n",
       "      <th>3649</th>\n",
       "    </tr>\n",
       "  </thead>\n",
       "  <tbody>\n",
       "    <tr>\n",
       "      <th>1992</th>\n",
       "      <td>-8941.531897</td>\n",
       "      <td>127788.667612</td>\n",
       "      <td>-71887.743011</td>\n",
       "      <td>-79146.060869</td>\n",
       "      <td>425156.114501</td>\n",
       "      <td>310681.166595</td>\n",
       "      <td>50581.575349</td>\n",
       "      <td>88349.230566</td>\n",
       "      <td>185804.513522</td>\n",
       "      <td>281286.947277</td>\n",
       "      <td>...</td>\n",
       "      <td>171938.760289</td>\n",
       "      <td>150650.759924</td>\n",
       "      <td>203663.976475</td>\n",
       "      <td>-377877.158072</td>\n",
       "      <td>-197214.093861</td>\n",
       "      <td>24185.008589</td>\n",
       "      <td>-56826.729535</td>\n",
       "      <td>-67319.766489</td>\n",
       "      <td>113377.299342</td>\n",
       "      <td>-4494.878538</td>\n",
       "    </tr>\n",
       "    <tr>\n",
       "      <th>1993</th>\n",
       "      <td>-51896.094813</td>\n",
       "      <td>198350.518755</td>\n",
       "      <td>-123518.252821</td>\n",
       "      <td>-129916.759685</td>\n",
       "      <td>216119.147314</td>\n",
       "      <td>49845.883728</td>\n",
       "      <td>149135.648505</td>\n",
       "      <td>62807.672113</td>\n",
       "      <td>23365.577348</td>\n",
       "      <td>-109686.264981</td>\n",
       "      <td>...</td>\n",
       "      <td>-44566.520071</td>\n",
       "      <td>101032.122475</td>\n",
       "      <td>117648.199945</td>\n",
       "      <td>160475.622607</td>\n",
       "      <td>-13759.888342</td>\n",
       "      <td>-37333.493572</td>\n",
       "      <td>103019.841174</td>\n",
       "      <td>179746.127403</td>\n",
       "      <td>13455.493990</td>\n",
       "      <td>34442.898855</td>\n",
       "    </tr>\n",
       "    <tr>\n",
       "      <th>1994</th>\n",
       "      <td>152336.932066</td>\n",
       "      <td>192947.128056</td>\n",
       "      <td>389950.263156</td>\n",
       "      <td>-93006.152024</td>\n",
       "      <td>100818.575896</td>\n",
       "      <td>5529.230706</td>\n",
       "      <td>-32989.370488</td>\n",
       "      <td>223942.967178</td>\n",
       "      <td>-66721.580898</td>\n",
       "      <td>47826.269111</td>\n",
       "      <td>...</td>\n",
       "      <td>165085.806360</td>\n",
       "      <td>74735.174090</td>\n",
       "      <td>107329.726875</td>\n",
       "      <td>199250.734156</td>\n",
       "      <td>-36792.202754</td>\n",
       "      <td>-71861.846997</td>\n",
       "      <td>26375.113219</td>\n",
       "      <td>-29328.078384</td>\n",
       "      <td>65858.761714</td>\n",
       "      <td>-91542.001049</td>\n",
       "    </tr>\n",
       "    <tr>\n",
       "      <th>1995</th>\n",
       "      <td>-69708.439062</td>\n",
       "      <td>-13289.977022</td>\n",
       "      <td>-30178.390991</td>\n",
       "      <td>55052.181256</td>\n",
       "      <td>152883.621657</td>\n",
       "      <td>12930.835194</td>\n",
       "      <td>63700.461932</td>\n",
       "      <td>64148.489835</td>\n",
       "      <td>-29316.268556</td>\n",
       "      <td>59645.677367</td>\n",
       "      <td>...</td>\n",
       "      <td>-13901.388118</td>\n",
       "      <td>50173.686673</td>\n",
       "      <td>53965.990717</td>\n",
       "      <td>4128.990173</td>\n",
       "      <td>72202.595138</td>\n",
       "      <td>39937.199964</td>\n",
       "      <td>139472.114293</td>\n",
       "      <td>59386.186379</td>\n",
       "      <td>73362.229590</td>\n",
       "      <td>28705.082908</td>\n",
       "    </tr>\n",
       "  </tbody>\n",
       "</table>\n",
       "<p>4 rows × 3650 columns</p>\n",
       "</div>"
      ],
      "text/plain": [
       "               0              1              2              3     \\\n",
       "1992   -8941.531897  127788.667612  -71887.743011  -79146.060869   \n",
       "1993  -51896.094813  198350.518755 -123518.252821 -129916.759685   \n",
       "1994  152336.932066  192947.128056  389950.263156  -93006.152024   \n",
       "1995  -69708.439062  -13289.977022  -30178.390991   55052.181256   \n",
       "\n",
       "               4              5              6              7     \\\n",
       "1992  425156.114501  310681.166595   50581.575349   88349.230566   \n",
       "1993  216119.147314   49845.883728  149135.648505   62807.672113   \n",
       "1994  100818.575896    5529.230706  -32989.370488  223942.967178   \n",
       "1995  152883.621657   12930.835194   63700.461932   64148.489835   \n",
       "\n",
       "               8              9         ...                3640  \\\n",
       "1992  185804.513522  281286.947277      ...       171938.760289   \n",
       "1993   23365.577348 -109686.264981      ...       -44566.520071   \n",
       "1994  -66721.580898   47826.269111      ...       165085.806360   \n",
       "1995  -29316.268556   59645.677367      ...       -13901.388118   \n",
       "\n",
       "               3641           3642           3643           3644  \\\n",
       "1992  150650.759924  203663.976475 -377877.158072 -197214.093861   \n",
       "1993  101032.122475  117648.199945  160475.622607  -13759.888342   \n",
       "1994   74735.174090  107329.726875  199250.734156  -36792.202754   \n",
       "1995   50173.686673   53965.990717    4128.990173   72202.595138   \n",
       "\n",
       "              3645           3646           3647           3648          3649  \n",
       "1992  24185.008589  -56826.729535  -67319.766489  113377.299342  -4494.878538  \n",
       "1993 -37333.493572  103019.841174  179746.127403   13455.493990  34442.898855  \n",
       "1994 -71861.846997   26375.113219  -29328.078384   65858.761714 -91542.001049  \n",
       "1995  39937.199964  139472.114293   59386.186379   73362.229590  28705.082908  \n",
       "\n",
       "[4 rows x 3650 columns]"
      ]
     },
     "execution_count": 11,
     "metadata": {},
     "output_type": "execute_result"
    }
   ],
   "source": [
    "df.T"
   ]
  },
  {
   "cell_type": "code",
   "execution_count": 12,
   "metadata": {
    "collapsed": false
   },
   "outputs": [
    {
     "data": {
      "text/html": [
       "<div>\n",
       "<table border=\"1\" class=\"dataframe\">\n",
       "  <thead>\n",
       "    <tr style=\"text-align: right;\">\n",
       "      <th></th>\n",
       "      <th>1992</th>\n",
       "      <th>1993</th>\n",
       "      <th>1994</th>\n",
       "      <th>1995</th>\n",
       "    </tr>\n",
       "  </thead>\n",
       "  <tbody>\n",
       "    <tr>\n",
       "      <th>count</th>\n",
       "      <td>3650.000000</td>\n",
       "      <td>3650.000000</td>\n",
       "      <td>3650.000000</td>\n",
       "      <td>3650.000000</td>\n",
       "    </tr>\n",
       "    <tr>\n",
       "      <th>mean</th>\n",
       "      <td>33312.107476</td>\n",
       "      <td>41861.859541</td>\n",
       "      <td>39493.304941</td>\n",
       "      <td>47743.550969</td>\n",
       "    </tr>\n",
       "    <tr>\n",
       "      <th>std</th>\n",
       "      <td>200630.901553</td>\n",
       "      <td>98398.356203</td>\n",
       "      <td>140369.925240</td>\n",
       "      <td>69781.185469</td>\n",
       "    </tr>\n",
       "    <tr>\n",
       "      <th>min</th>\n",
       "      <td>-717071.175466</td>\n",
       "      <td>-321586.023683</td>\n",
       "      <td>-450827.613097</td>\n",
       "      <td>-189865.963265</td>\n",
       "    </tr>\n",
       "    <tr>\n",
       "      <th>25%</th>\n",
       "      <td>-102740.398364</td>\n",
       "      <td>-26628.302213</td>\n",
       "      <td>-57436.397393</td>\n",
       "      <td>1774.555612</td>\n",
       "    </tr>\n",
       "    <tr>\n",
       "      <th>50%</th>\n",
       "      <td>29674.931050</td>\n",
       "      <td>43001.976658</td>\n",
       "      <td>41396.781369</td>\n",
       "      <td>49404.322978</td>\n",
       "    </tr>\n",
       "    <tr>\n",
       "      <th>75%</th>\n",
       "      <td>167441.838695</td>\n",
       "      <td>108296.577923</td>\n",
       "      <td>137261.713785</td>\n",
       "      <td>94164.333867</td>\n",
       "    </tr>\n",
       "    <tr>\n",
       "      <th>max</th>\n",
       "      <td>817505.608159</td>\n",
       "      <td>395586.505068</td>\n",
       "      <td>490091.665037</td>\n",
       "      <td>320826.888044</td>\n",
       "    </tr>\n",
       "  </tbody>\n",
       "</table>\n",
       "</div>"
      ],
      "text/plain": [
       "                1992           1993           1994           1995\n",
       "count    3650.000000    3650.000000    3650.000000    3650.000000\n",
       "mean    33312.107476   41861.859541   39493.304941   47743.550969\n",
       "std    200630.901553   98398.356203  140369.925240   69781.185469\n",
       "min   -717071.175466 -321586.023683 -450827.613097 -189865.963265\n",
       "25%   -102740.398364  -26628.302213  -57436.397393    1774.555612\n",
       "50%     29674.931050   43001.976658   41396.781369   49404.322978\n",
       "75%    167441.838695  108296.577923  137261.713785   94164.333867\n",
       "max    817505.608159  395586.505068  490091.665037  320826.888044"
      ]
     },
     "execution_count": 12,
     "metadata": {},
     "output_type": "execute_result"
    }
   ],
   "source": [
    "df.describe()"
   ]
  },
  {
   "cell_type": "code",
   "execution_count": 13,
   "metadata": {
    "collapsed": false
   },
   "outputs": [
    {
     "data": {
      "text/plain": [
       "39493.304941398885"
      ]
     },
     "execution_count": 13,
     "metadata": {},
     "output_type": "execute_result"
    }
   ],
   "source": [
    "year_avg = df[1994].mean()\n",
    "year_avg"
   ]
  },
  {
   "cell_type": "code",
   "execution_count": 14,
   "metadata": {
    "collapsed": false
   },
   "outputs": [
    {
     "data": {
      "text/plain": [
       "2323.1012357774111"
      ]
     },
     "execution_count": 14,
     "metadata": {},
     "output_type": "execute_result"
    }
   ],
   "source": [
    "stats.sem(df[1994], axis=None, ddof=0)\n"
   ]
  },
  {
   "cell_type": "code",
   "execution_count": 15,
   "metadata": {
    "collapsed": false
   },
   "outputs": [
    {
     "data": {
      "text/html": [
       "<div>\n",
       "<table border=\"1\" class=\"dataframe\">\n",
       "  <thead>\n",
       "    <tr style=\"text-align: right;\">\n",
       "      <th></th>\n",
       "      <th>count</th>\n",
       "      <th>mean</th>\n",
       "      <th>std</th>\n",
       "      <th>min</th>\n",
       "      <th>25%</th>\n",
       "      <th>50%</th>\n",
       "      <th>75%</th>\n",
       "      <th>max</th>\n",
       "    </tr>\n",
       "  </thead>\n",
       "  <tbody>\n",
       "    <tr>\n",
       "      <th>1992</th>\n",
       "      <td>3650.0</td>\n",
       "      <td>33312.107476</td>\n",
       "      <td>200630.901553</td>\n",
       "      <td>-717071.175466</td>\n",
       "      <td>-102740.398364</td>\n",
       "      <td>29674.931050</td>\n",
       "      <td>167441.838695</td>\n",
       "      <td>817505.608159</td>\n",
       "    </tr>\n",
       "    <tr>\n",
       "      <th>1993</th>\n",
       "      <td>3650.0</td>\n",
       "      <td>41861.859541</td>\n",
       "      <td>98398.356203</td>\n",
       "      <td>-321586.023683</td>\n",
       "      <td>-26628.302213</td>\n",
       "      <td>43001.976658</td>\n",
       "      <td>108296.577923</td>\n",
       "      <td>395586.505068</td>\n",
       "    </tr>\n",
       "    <tr>\n",
       "      <th>1994</th>\n",
       "      <td>3650.0</td>\n",
       "      <td>39493.304941</td>\n",
       "      <td>140369.925240</td>\n",
       "      <td>-450827.613097</td>\n",
       "      <td>-57436.397393</td>\n",
       "      <td>41396.781369</td>\n",
       "      <td>137261.713785</td>\n",
       "      <td>490091.665037</td>\n",
       "    </tr>\n",
       "    <tr>\n",
       "      <th>1995</th>\n",
       "      <td>3650.0</td>\n",
       "      <td>47743.550969</td>\n",
       "      <td>69781.185469</td>\n",
       "      <td>-189865.963265</td>\n",
       "      <td>1774.555612</td>\n",
       "      <td>49404.322978</td>\n",
       "      <td>94164.333867</td>\n",
       "      <td>320826.888044</td>\n",
       "    </tr>\n",
       "  </tbody>\n",
       "</table>\n",
       "</div>"
      ],
      "text/plain": [
       "       count          mean            std            min            25%  \\\n",
       "1992  3650.0  33312.107476  200630.901553 -717071.175466 -102740.398364   \n",
       "1993  3650.0  41861.859541   98398.356203 -321586.023683  -26628.302213   \n",
       "1994  3650.0  39493.304941  140369.925240 -450827.613097  -57436.397393   \n",
       "1995  3650.0  47743.550969   69781.185469 -189865.963265    1774.555612   \n",
       "\n",
       "               50%            75%            max  \n",
       "1992  29674.931050  167441.838695  817505.608159  \n",
       "1993  43001.976658  108296.577923  395586.505068  \n",
       "1994  41396.781369  137261.713785  490091.665037  \n",
       "1995  49404.322978   94164.333867  320826.888044  "
      ]
     },
     "execution_count": 15,
     "metadata": {},
     "output_type": "execute_result"
    }
   ],
   "source": [
    "dfstat_transpose = df.describe()\n",
    "dfstat_transpose1 = dfstat_transpose.T\n",
    "dfstat_transpose1"
   ]
  },
  {
   "cell_type": "code",
   "execution_count": 16,
   "metadata": {
    "collapsed": false
   },
   "outputs": [
    {
     "data": {
      "text/html": [
       "<div>\n",
       "<table border=\"1\" class=\"dataframe\">\n",
       "  <thead>\n",
       "    <tr style=\"text-align: right;\">\n",
       "      <th></th>\n",
       "      <th>count</th>\n",
       "      <th>mean</th>\n",
       "      <th>std</th>\n",
       "      <th>min</th>\n",
       "      <th>25%</th>\n",
       "      <th>50%</th>\n",
       "      <th>75%</th>\n",
       "      <th>max</th>\n",
       "      <th>yerr</th>\n",
       "    </tr>\n",
       "  </thead>\n",
       "  <tbody>\n",
       "    <tr>\n",
       "      <th>1992</th>\n",
       "      <td>3650.0</td>\n",
       "      <td>33312.107476</td>\n",
       "      <td>200630.901553</td>\n",
       "      <td>-717071.175466</td>\n",
       "      <td>-102740.398364</td>\n",
       "      <td>29674.931050</td>\n",
       "      <td>167441.838695</td>\n",
       "      <td>817505.608159</td>\n",
       "      <td>3320.866311</td>\n",
       "    </tr>\n",
       "    <tr>\n",
       "      <th>1993</th>\n",
       "      <td>3650.0</td>\n",
       "      <td>41861.859541</td>\n",
       "      <td>98398.356203</td>\n",
       "      <td>-321586.023683</td>\n",
       "      <td>-26628.302213</td>\n",
       "      <td>43001.976658</td>\n",
       "      <td>108296.577923</td>\n",
       "      <td>395586.505068</td>\n",
       "      <td>1628.701180</td>\n",
       "    </tr>\n",
       "    <tr>\n",
       "      <th>1994</th>\n",
       "      <td>3650.0</td>\n",
       "      <td>39493.304941</td>\n",
       "      <td>140369.925240</td>\n",
       "      <td>-450827.613097</td>\n",
       "      <td>-57436.397393</td>\n",
       "      <td>41396.781369</td>\n",
       "      <td>137261.713785</td>\n",
       "      <td>490091.665037</td>\n",
       "      <td>2323.419534</td>\n",
       "    </tr>\n",
       "    <tr>\n",
       "      <th>1995</th>\n",
       "      <td>3650.0</td>\n",
       "      <td>47743.550969</td>\n",
       "      <td>69781.185469</td>\n",
       "      <td>-189865.963265</td>\n",
       "      <td>1774.555612</td>\n",
       "      <td>49404.322978</td>\n",
       "      <td>94164.333867</td>\n",
       "      <td>320826.888044</td>\n",
       "      <td>1155.026400</td>\n",
       "    </tr>\n",
       "  </tbody>\n",
       "</table>\n",
       "</div>"
      ],
      "text/plain": [
       "       count          mean            std            min            25%  \\\n",
       "1992  3650.0  33312.107476  200630.901553 -717071.175466 -102740.398364   \n",
       "1993  3650.0  41861.859541   98398.356203 -321586.023683  -26628.302213   \n",
       "1994  3650.0  39493.304941  140369.925240 -450827.613097  -57436.397393   \n",
       "1995  3650.0  47743.550969   69781.185469 -189865.963265    1774.555612   \n",
       "\n",
       "               50%            75%            max         yerr  \n",
       "1992  29674.931050  167441.838695  817505.608159  3320.866311  \n",
       "1993  43001.976658  108296.577923  395586.505068  1628.701180  \n",
       "1994  41396.781369  137261.713785  490091.665037  2323.419534  \n",
       "1995  49404.322978   94164.333867  320826.888044  1155.026400  "
      ]
     },
     "execution_count": 16,
     "metadata": {},
     "output_type": "execute_result"
    }
   ],
   "source": [
    "dfstat_transpose1['yerr'] = dfstat_transpose1['std'] / np.sqrt(dfstat_transpose1['count'])\n",
    "dfstat_transpose1"
   ]
  },
  {
   "cell_type": "code",
   "execution_count": 17,
   "metadata": {
    "collapsed": false
   },
   "outputs": [
    {
     "ename": "KeyError",
     "evalue": "'std'",
     "output_type": "error",
     "traceback": [
      "\u001b[0;31m---------------------------------------------------------------------------\u001b[0m",
      "\u001b[0;31mTypeError\u001b[0m                                 Traceback (most recent call last)",
      "\u001b[0;32mpandas/index.pyx\u001b[0m in \u001b[0;36mpandas.index.IndexEngine.get_loc (pandas/index.c:4279)\u001b[0;34m()\u001b[0m\n",
      "\u001b[0;32mpandas/src/hashtable_class_helper.pxi\u001b[0m in \u001b[0;36mpandas.hashtable.Int64HashTable.get_item (pandas/hashtable.c:8543)\u001b[0;34m()\u001b[0m\n",
      "\u001b[0;31mTypeError\u001b[0m: an integer is required",
      "\nDuring handling of the above exception, another exception occurred:\n",
      "\u001b[0;31mKeyError\u001b[0m                                  Traceback (most recent call last)",
      "\u001b[0;32m/opt/conda/lib/python3.5/site-packages/pandas/indexes/base.py\u001b[0m in \u001b[0;36mget_loc\u001b[0;34m(self, key, method, tolerance)\u001b[0m\n\u001b[1;32m   2133\u001b[0m             \u001b[0;32mtry\u001b[0m\u001b[0;34m:\u001b[0m\u001b[0;34m\u001b[0m\u001b[0m\n\u001b[0;32m-> 2134\u001b[0;31m                 \u001b[0;32mreturn\u001b[0m \u001b[0mself\u001b[0m\u001b[0;34m.\u001b[0m\u001b[0m_engine\u001b[0m\u001b[0;34m.\u001b[0m\u001b[0mget_loc\u001b[0m\u001b[0;34m(\u001b[0m\u001b[0mkey\u001b[0m\u001b[0;34m)\u001b[0m\u001b[0;34m\u001b[0m\u001b[0m\n\u001b[0m\u001b[1;32m   2135\u001b[0m             \u001b[0;32mexcept\u001b[0m \u001b[0mKeyError\u001b[0m\u001b[0;34m:\u001b[0m\u001b[0;34m\u001b[0m\u001b[0m\n",
      "\u001b[0;32mpandas/index.pyx\u001b[0m in \u001b[0;36mpandas.index.IndexEngine.get_loc (pandas/index.c:4433)\u001b[0;34m()\u001b[0m\n",
      "\u001b[0;32mpandas/index.pyx\u001b[0m in \u001b[0;36mpandas.index.IndexEngine.get_loc (pandas/index.c:4363)\u001b[0;34m()\u001b[0m\n",
      "\u001b[0;31mKeyError\u001b[0m: 'std'",
      "\nDuring handling of the above exception, another exception occurred:\n",
      "\u001b[0;31mTypeError\u001b[0m                                 Traceback (most recent call last)",
      "\u001b[0;32mpandas/index.pyx\u001b[0m in \u001b[0;36mpandas.index.IndexEngine.get_loc (pandas/index.c:4279)\u001b[0;34m()\u001b[0m\n",
      "\u001b[0;32mpandas/src/hashtable_class_helper.pxi\u001b[0m in \u001b[0;36mpandas.hashtable.Int64HashTable.get_item (pandas/hashtable.c:8543)\u001b[0;34m()\u001b[0m\n",
      "\u001b[0;31mTypeError\u001b[0m: an integer is required",
      "\nDuring handling of the above exception, another exception occurred:\n",
      "\u001b[0;31mKeyError\u001b[0m                                  Traceback (most recent call last)",
      "\u001b[0;32m<ipython-input-17-c4a103fed8f6>\u001b[0m in \u001b[0;36m<module>\u001b[0;34m()\u001b[0m\n\u001b[1;32m      1\u001b[0m \u001b[0;31m# 95% confidence interval\u001b[0m\u001b[0;34m\u001b[0m\u001b[0;34m\u001b[0m\u001b[0m\n\u001b[1;32m      2\u001b[0m \u001b[0;34m\u001b[0m\u001b[0m\n\u001b[0;32m----> 3\u001b[0;31m \u001b[0mdfstat_transpose\u001b[0m\u001b[0;34m[\u001b[0m\u001b[0;34m'yerr'\u001b[0m\u001b[0;34m]\u001b[0m \u001b[0;34m=\u001b[0m \u001b[0;36m1.96\u001b[0m \u001b[0;34m*\u001b[0m \u001b[0;34m(\u001b[0m\u001b[0mdfstat_transpose\u001b[0m\u001b[0;34m[\u001b[0m\u001b[0;34m'std'\u001b[0m\u001b[0;34m]\u001b[0m \u001b[0;34m/\u001b[0m \u001b[0mnp\u001b[0m\u001b[0;34m.\u001b[0m\u001b[0msqrt\u001b[0m\u001b[0;34m(\u001b[0m\u001b[0mdfstat_transpose\u001b[0m\u001b[0;34m[\u001b[0m\u001b[0;34m'count'\u001b[0m\u001b[0;34m]\u001b[0m\u001b[0;34m)\u001b[0m\u001b[0;34m)\u001b[0m\u001b[0;34m\u001b[0m\u001b[0m\n\u001b[0m\u001b[1;32m      4\u001b[0m \u001b[0mdfstat_transpose\u001b[0m\u001b[0;34m\u001b[0m\u001b[0m\n",
      "\u001b[0;32m/opt/conda/lib/python3.5/site-packages/pandas/core/frame.py\u001b[0m in \u001b[0;36m__getitem__\u001b[0;34m(self, key)\u001b[0m\n\u001b[1;32m   2057\u001b[0m             \u001b[0;32mreturn\u001b[0m \u001b[0mself\u001b[0m\u001b[0;34m.\u001b[0m\u001b[0m_getitem_multilevel\u001b[0m\u001b[0;34m(\u001b[0m\u001b[0mkey\u001b[0m\u001b[0;34m)\u001b[0m\u001b[0;34m\u001b[0m\u001b[0m\n\u001b[1;32m   2058\u001b[0m         \u001b[0;32melse\u001b[0m\u001b[0;34m:\u001b[0m\u001b[0;34m\u001b[0m\u001b[0m\n\u001b[0;32m-> 2059\u001b[0;31m             \u001b[0;32mreturn\u001b[0m \u001b[0mself\u001b[0m\u001b[0;34m.\u001b[0m\u001b[0m_getitem_column\u001b[0m\u001b[0;34m(\u001b[0m\u001b[0mkey\u001b[0m\u001b[0;34m)\u001b[0m\u001b[0;34m\u001b[0m\u001b[0m\n\u001b[0m\u001b[1;32m   2060\u001b[0m \u001b[0;34m\u001b[0m\u001b[0m\n\u001b[1;32m   2061\u001b[0m     \u001b[0;32mdef\u001b[0m \u001b[0m_getitem_column\u001b[0m\u001b[0;34m(\u001b[0m\u001b[0mself\u001b[0m\u001b[0;34m,\u001b[0m \u001b[0mkey\u001b[0m\u001b[0;34m)\u001b[0m\u001b[0;34m:\u001b[0m\u001b[0;34m\u001b[0m\u001b[0m\n",
      "\u001b[0;32m/opt/conda/lib/python3.5/site-packages/pandas/core/frame.py\u001b[0m in \u001b[0;36m_getitem_column\u001b[0;34m(self, key)\u001b[0m\n\u001b[1;32m   2064\u001b[0m         \u001b[0;31m# get column\u001b[0m\u001b[0;34m\u001b[0m\u001b[0;34m\u001b[0m\u001b[0m\n\u001b[1;32m   2065\u001b[0m         \u001b[0;32mif\u001b[0m \u001b[0mself\u001b[0m\u001b[0;34m.\u001b[0m\u001b[0mcolumns\u001b[0m\u001b[0;34m.\u001b[0m\u001b[0mis_unique\u001b[0m\u001b[0;34m:\u001b[0m\u001b[0;34m\u001b[0m\u001b[0m\n\u001b[0;32m-> 2066\u001b[0;31m             \u001b[0;32mreturn\u001b[0m \u001b[0mself\u001b[0m\u001b[0;34m.\u001b[0m\u001b[0m_get_item_cache\u001b[0m\u001b[0;34m(\u001b[0m\u001b[0mkey\u001b[0m\u001b[0;34m)\u001b[0m\u001b[0;34m\u001b[0m\u001b[0m\n\u001b[0m\u001b[1;32m   2067\u001b[0m \u001b[0;34m\u001b[0m\u001b[0m\n\u001b[1;32m   2068\u001b[0m         \u001b[0;31m# duplicate columns & possible reduce dimensionality\u001b[0m\u001b[0;34m\u001b[0m\u001b[0;34m\u001b[0m\u001b[0m\n",
      "\u001b[0;32m/opt/conda/lib/python3.5/site-packages/pandas/core/generic.py\u001b[0m in \u001b[0;36m_get_item_cache\u001b[0;34m(self, item)\u001b[0m\n\u001b[1;32m   1384\u001b[0m         \u001b[0mres\u001b[0m \u001b[0;34m=\u001b[0m \u001b[0mcache\u001b[0m\u001b[0;34m.\u001b[0m\u001b[0mget\u001b[0m\u001b[0;34m(\u001b[0m\u001b[0mitem\u001b[0m\u001b[0;34m)\u001b[0m\u001b[0;34m\u001b[0m\u001b[0m\n\u001b[1;32m   1385\u001b[0m         \u001b[0;32mif\u001b[0m \u001b[0mres\u001b[0m \u001b[0;32mis\u001b[0m \u001b[0;32mNone\u001b[0m\u001b[0;34m:\u001b[0m\u001b[0;34m\u001b[0m\u001b[0m\n\u001b[0;32m-> 1386\u001b[0;31m             \u001b[0mvalues\u001b[0m \u001b[0;34m=\u001b[0m \u001b[0mself\u001b[0m\u001b[0;34m.\u001b[0m\u001b[0m_data\u001b[0m\u001b[0;34m.\u001b[0m\u001b[0mget\u001b[0m\u001b[0;34m(\u001b[0m\u001b[0mitem\u001b[0m\u001b[0;34m)\u001b[0m\u001b[0;34m\u001b[0m\u001b[0m\n\u001b[0m\u001b[1;32m   1387\u001b[0m             \u001b[0mres\u001b[0m \u001b[0;34m=\u001b[0m \u001b[0mself\u001b[0m\u001b[0;34m.\u001b[0m\u001b[0m_box_item_values\u001b[0m\u001b[0;34m(\u001b[0m\u001b[0mitem\u001b[0m\u001b[0;34m,\u001b[0m \u001b[0mvalues\u001b[0m\u001b[0;34m)\u001b[0m\u001b[0;34m\u001b[0m\u001b[0m\n\u001b[1;32m   1388\u001b[0m             \u001b[0mcache\u001b[0m\u001b[0;34m[\u001b[0m\u001b[0mitem\u001b[0m\u001b[0;34m]\u001b[0m \u001b[0;34m=\u001b[0m \u001b[0mres\u001b[0m\u001b[0;34m\u001b[0m\u001b[0m\n",
      "\u001b[0;32m/opt/conda/lib/python3.5/site-packages/pandas/core/internals.py\u001b[0m in \u001b[0;36mget\u001b[0;34m(self, item, fastpath)\u001b[0m\n\u001b[1;32m   3541\u001b[0m \u001b[0;34m\u001b[0m\u001b[0m\n\u001b[1;32m   3542\u001b[0m             \u001b[0;32mif\u001b[0m \u001b[0;32mnot\u001b[0m \u001b[0misnull\u001b[0m\u001b[0;34m(\u001b[0m\u001b[0mitem\u001b[0m\u001b[0;34m)\u001b[0m\u001b[0;34m:\u001b[0m\u001b[0;34m\u001b[0m\u001b[0m\n\u001b[0;32m-> 3543\u001b[0;31m                 \u001b[0mloc\u001b[0m \u001b[0;34m=\u001b[0m \u001b[0mself\u001b[0m\u001b[0;34m.\u001b[0m\u001b[0mitems\u001b[0m\u001b[0;34m.\u001b[0m\u001b[0mget_loc\u001b[0m\u001b[0;34m(\u001b[0m\u001b[0mitem\u001b[0m\u001b[0;34m)\u001b[0m\u001b[0;34m\u001b[0m\u001b[0m\n\u001b[0m\u001b[1;32m   3544\u001b[0m             \u001b[0;32melse\u001b[0m\u001b[0;34m:\u001b[0m\u001b[0;34m\u001b[0m\u001b[0m\n\u001b[1;32m   3545\u001b[0m                 \u001b[0mindexer\u001b[0m \u001b[0;34m=\u001b[0m \u001b[0mnp\u001b[0m\u001b[0;34m.\u001b[0m\u001b[0marange\u001b[0m\u001b[0;34m(\u001b[0m\u001b[0mlen\u001b[0m\u001b[0;34m(\u001b[0m\u001b[0mself\u001b[0m\u001b[0;34m.\u001b[0m\u001b[0mitems\u001b[0m\u001b[0;34m)\u001b[0m\u001b[0;34m)\u001b[0m\u001b[0;34m[\u001b[0m\u001b[0misnull\u001b[0m\u001b[0;34m(\u001b[0m\u001b[0mself\u001b[0m\u001b[0;34m.\u001b[0m\u001b[0mitems\u001b[0m\u001b[0;34m)\u001b[0m\u001b[0;34m]\u001b[0m\u001b[0;34m\u001b[0m\u001b[0m\n",
      "\u001b[0;32m/opt/conda/lib/python3.5/site-packages/pandas/indexes/base.py\u001b[0m in \u001b[0;36mget_loc\u001b[0;34m(self, key, method, tolerance)\u001b[0m\n\u001b[1;32m   2134\u001b[0m                 \u001b[0;32mreturn\u001b[0m \u001b[0mself\u001b[0m\u001b[0;34m.\u001b[0m\u001b[0m_engine\u001b[0m\u001b[0;34m.\u001b[0m\u001b[0mget_loc\u001b[0m\u001b[0;34m(\u001b[0m\u001b[0mkey\u001b[0m\u001b[0;34m)\u001b[0m\u001b[0;34m\u001b[0m\u001b[0m\n\u001b[1;32m   2135\u001b[0m             \u001b[0;32mexcept\u001b[0m \u001b[0mKeyError\u001b[0m\u001b[0;34m:\u001b[0m\u001b[0;34m\u001b[0m\u001b[0m\n\u001b[0;32m-> 2136\u001b[0;31m                 \u001b[0;32mreturn\u001b[0m \u001b[0mself\u001b[0m\u001b[0;34m.\u001b[0m\u001b[0m_engine\u001b[0m\u001b[0;34m.\u001b[0m\u001b[0mget_loc\u001b[0m\u001b[0;34m(\u001b[0m\u001b[0mself\u001b[0m\u001b[0;34m.\u001b[0m\u001b[0m_maybe_cast_indexer\u001b[0m\u001b[0;34m(\u001b[0m\u001b[0mkey\u001b[0m\u001b[0;34m)\u001b[0m\u001b[0;34m)\u001b[0m\u001b[0;34m\u001b[0m\u001b[0m\n\u001b[0m\u001b[1;32m   2137\u001b[0m \u001b[0;34m\u001b[0m\u001b[0m\n\u001b[1;32m   2138\u001b[0m         \u001b[0mindexer\u001b[0m \u001b[0;34m=\u001b[0m \u001b[0mself\u001b[0m\u001b[0;34m.\u001b[0m\u001b[0mget_indexer\u001b[0m\u001b[0;34m(\u001b[0m\u001b[0;34m[\u001b[0m\u001b[0mkey\u001b[0m\u001b[0;34m]\u001b[0m\u001b[0;34m,\u001b[0m \u001b[0mmethod\u001b[0m\u001b[0;34m=\u001b[0m\u001b[0mmethod\u001b[0m\u001b[0;34m,\u001b[0m \u001b[0mtolerance\u001b[0m\u001b[0;34m=\u001b[0m\u001b[0mtolerance\u001b[0m\u001b[0;34m)\u001b[0m\u001b[0;34m\u001b[0m\u001b[0m\n",
      "\u001b[0;32mpandas/index.pyx\u001b[0m in \u001b[0;36mpandas.index.IndexEngine.get_loc (pandas/index.c:4433)\u001b[0;34m()\u001b[0m\n",
      "\u001b[0;32mpandas/index.pyx\u001b[0m in \u001b[0;36mpandas.index.IndexEngine.get_loc (pandas/index.c:4363)\u001b[0;34m()\u001b[0m\n",
      "\u001b[0;31mKeyError\u001b[0m: 'std'"
     ]
    }
   ],
   "source": [
    "# 95% confidence interval\n",
    "\n",
    "dfstat_transpose['yerr'] = 1.96 * (dfstat_transpose['std'] / np.sqrt(dfstat_transpose['count']))\n",
    "dfstat_transpose"
   ]
  },
  {
   "cell_type": "code",
   "execution_count": null,
   "metadata": {
    "collapsed": true
   },
   "outputs": [],
   "source": [
    "#stats.t.interval?"
   ]
  },
  {
   "cell_type": "code",
   "execution_count": null,
   "metadata": {
    "collapsed": false
   },
   "outputs": [],
   "source": [
    "stats.t.interval(0.95, len(df[1992]), loc=np.mean(df[1992]), scale=stats.sem(df[1992]))"
   ]
  },
  {
   "cell_type": "code",
   "execution_count": null,
   "metadata": {
    "collapsed": false
   },
   "outputs": [],
   "source": [
    "scale=stats.sem(df[1992])\n",
    "scale"
   ]
  },
  {
   "cell_type": "code",
   "execution_count": null,
   "metadata": {
    "collapsed": false
   },
   "outputs": [],
   "source": [
    "200630.901553/np.sqrt(3650.0)"
   ]
  },
  {
   "cell_type": "code",
   "execution_count": null,
   "metadata": {
    "collapsed": false
   },
   "outputs": [],
   "source": [
    "dfstat_transpose['std']"
   ]
  },
  {
   "cell_type": "code",
   "execution_count": null,
   "metadata": {
    "collapsed": false
   },
   "outputs": [],
   "source": [
    "confidence = 0.95\n",
    "data = [1, 2, 3, 4, 5]\n",
    "\n",
    "n = len(data)\n",
    "m = np.mean(data)\n",
    "std_err = stats.sem(data)\n",
    "h = std_err * stats.t.ppf((1 + confidence) / 2, n - 1)\n",
    "\n",
    "start = m - h\n",
    "start"
   ]
  },
  {
   "cell_type": "code",
   "execution_count": null,
   "metadata": {
    "collapsed": false
   },
   "outputs": [],
   "source": [
    "h = std_err * stats.t.ppf((1 + confidence) / 2, n - 1)\n",
    "h"
   ]
  },
  {
   "cell_type": "code",
   "execution_count": null,
   "metadata": {
    "collapsed": false
   },
   "outputs": [],
   "source": [
    "np.mean(df)"
   ]
  },
  {
   "cell_type": "code",
   "execution_count": null,
   "metadata": {
    "collapsed": false
   },
   "outputs": [],
   "source": [
    "confidence = 0.95\n",
    "data = [1, 2, 3, 4, 5]\n",
    "\n",
    "n = len(data)\n",
    "m = np.mean(data)\n",
    "std_err = stats.sem(data)\n",
    "h = std_err * stats.t.ppf((1 + confidence) / 2, n - 1)\n",
    "\n",
    "start = m - h\n",
    "h"
   ]
  },
  {
   "cell_type": "code",
   "execution_count": null,
   "metadata": {
    "collapsed": false
   },
   "outputs": [],
   "source": [
    "\n",
    "\n",
    "confidence = 0.95\n",
    "data = df[1995]\n",
    "\n",
    "n = len(data)\n",
    "m = np.mean(data)\n",
    "std_err = stats.sem(data)\n",
    "h = std_err * stats.t.ppf((1 + confidence) / 2, n - 1)\n",
    "\n",
    "l = stats.t.ppf((1 + confidence) / 2, n - 1)\n",
    "\n",
    "\n",
    "start = m - h\n",
    "l"
   ]
  },
  {
   "cell_type": "code",
   "execution_count": null,
   "metadata": {
    "collapsed": false
   },
   "outputs": [],
   "source": [
    "ds = df\n",
    "ds."
   ]
  },
  {
   "cell_type": "code",
   "execution_count": null,
   "metadata": {
    "collapsed": false
   },
   "outputs": [],
   "source": [
    "df = df\n",
    "means = df.mean(axis=1)\n",
    "std = df.std(axis=1)\n",
    "std\n"
   ]
  },
  {
   "cell_type": "code",
   "execution_count": null,
   "metadata": {
    "collapsed": true
   },
   "outputs": [],
   "source": []
  },
  {
   "cell_type": "code",
   "execution_count": null,
   "metadata": {
    "collapsed": true
   },
   "outputs": [],
   "source": []
  },
  {
   "cell_type": "code",
   "execution_count": null,
   "metadata": {
    "collapsed": true
   },
   "outputs": [],
   "source": []
  },
  {
   "cell_type": "code",
   "execution_count": null,
   "metadata": {
    "collapsed": true
   },
   "outputs": [],
   "source": []
  },
  {
   "cell_type": "code",
   "execution_count": null,
   "metadata": {
    "collapsed": true
   },
   "outputs": [],
   "source": []
  },
  {
   "cell_type": "code",
   "execution_count": null,
   "metadata": {
    "collapsed": true
   },
   "outputs": [],
   "source": []
  },
  {
   "cell_type": "code",
   "execution_count": null,
   "metadata": {
    "collapsed": true
   },
   "outputs": [],
   "source": []
  }
 ],
 "metadata": {
  "kernelspec": {
   "display_name": "Python 3",
   "language": "python",
   "name": "python3"
  },
  "language_info": {
   "codemirror_mode": {
    "name": "ipython",
    "version": 3
   },
   "file_extension": ".py",
   "mimetype": "text/x-python",
   "name": "python",
   "nbconvert_exporter": "python",
   "pygments_lexer": "ipython3",
   "version": "3.5.2"
  }
 },
 "nbformat": 4,
 "nbformat_minor": 2
}
